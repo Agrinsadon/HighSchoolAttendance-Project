{
 "cells": [
  {
   "cell_type": "code",
   "id": "initial_id",
   "metadata": {
    "collapsed": true,
    "ExecuteTime": {
     "end_time": "2024-09-23T14:19:50.644556Z",
     "start_time": "2024-09-23T14:19:50.591825Z"
    }
   },
   "source": [
    "import pandas as pd\n",
    "\n",
    "\n",
    "df = pd.read_csv('./archive/2023_GradesVsPeriodAttendance_01.csv')\n",
    "\n",
    "print(df.school_name.unique())"
   ],
   "outputs": [
    {
     "name": "stdout",
     "output_type": "stream",
     "text": [
      "['West High School' 'North High School' 'South High School'\n",
      " 'Hope High School' 'Sunny High School' 'Small High School'\n",
      " 'East High School']\n"
     ]
    }
   ],
   "execution_count": 7
  },
  {
   "metadata": {},
   "cell_type": "markdown",
   "source": [
    "1. Vaikuttaako poissaolojen määrä oppilaan saamiin arvosanoihin?\n",
    "- Kysymys: Onko oppilailla, joilla on enemmän poissaoloja, keskimäärin huonommat arvosanat?\n",
    "- Analyysi: Tarkastelkaa poissaolojen määrää eri oppitunneilla ja verratkaa sitä oppilaan saamiin arvosanoihin."
   ],
   "id": "7d5dada2c5fefd99"
  },
  {
   "metadata": {},
   "cell_type": "code",
   "outputs": [],
   "execution_count": null,
   "source": "##Tähän koodisoluun voit kirjoittaa koodia, joka vastaa yllä esitettyyn kysymykseen.",
   "id": "66a27b2b27f828c4"
  },
  {
   "metadata": {},
   "cell_type": "markdown",
   "source": [
    "2. Mitkä oppitunnit ovat herkimmin altistettuja poissaoloille?\n",
    "-  Kysymys: Onko joillakin oppitunneilla (esim. ensimmäinen tai kuudes tunti) enemmän poissaoloja kuin muilla?\n",
    "-  Analyysi: Vertailkaa poissaolomääriä eri oppitunneilla ja tutkikaa, onko tiettyjä jaksoja, joissa poissaoloja esiintyy enemmän.\n"
   ],
   "id": "2b67708c75731411"
  },
  {
   "metadata": {},
   "cell_type": "code",
   "outputs": [],
   "execution_count": null,
   "source": "##Tähän koodisoluun voit kirjoittaa koodia, joka vastaa yllä esitettyyn kysymykseen.\n",
   "id": "1dc70a1f062eadca"
  },
  {
   "metadata": {},
   "cell_type": "markdown",
   "source": [
    "3. Onko tietyn vuoden opiskelijoilla (esim. 9., 10., 11. tai 12. luokka) korkeampi poissaolojen määrä tai heikommat arvosanat?\n",
    "-  Kysymys: Onko poissaolojen määrä ja oppilaan saamat arvosanat yhteydessä opiskelijan luokka-asteeseen?\n",
    "-  Analyysi: Ryhmitelkää oppilaat heidän luokka-asteensa mukaan ja tarkastelkaa poissaolojen ja arvosanojen keskiarvoa kullekin luokka-asteelle."
   ],
   "id": "21798e63f898346c"
  },
  {
   "metadata": {},
   "cell_type": "code",
   "outputs": [],
   "execution_count": null,
   "source": "##Tähän koodisoluun voit kirjoittaa koodia, joka vastaa yllä esitettyyn kysymykseen.",
   "id": "8fe5472693aecccb"
  },
  {
   "metadata": {},
   "cell_type": "markdown",
   "source": [
    "\n",
    "4. Kuinka paljon poissaoloja tarvitaan, ennen kuin ne alkavat vaikuttaa merkittävästi oppilaan arvosanoihin?\n",
    "-  Kysymys: Mikä on poissaolojen kynnysarvo, jonka jälkeen oppilaan arvosanat alkavat heiketä merkittävästi?\n",
    "-  Analyysi: Mallintakaa poissaolojen ja arvosanojen välistä suhdetta ja selvittäkää, missä kohtaa poissaolot alkavat heikentää arvosanoja."
   ],
   "id": "a2b57b8ce4c7910d"
  },
  {
   "metadata": {},
   "cell_type": "code",
   "outputs": [],
   "execution_count": null,
   "source": "##Tähän koodisoluun voit kirjoittaa koodia, joka vastaa yllä esitettyyn kysymykseen.",
   "id": "ba5e3da7ff23c951"
  },
  {
   "metadata": {},
   "cell_type": "markdown",
   "source": [
    "5. Voidaanko ennustaa opiskelijan menestys toisen jakson aikana ensimmäisen jakson perusteella?\n",
    "-  Kysymys: Voidaanko ensimmäisen jakson arvosanojen ja poissaolojen perusteella ennustaa toisen jakson suoriutumista?\n",
    "-  Analyysi: Käyttäkää ensimmäisen jakson tietoja mallina, ja testatkaa, kuinka hyvin ne ennustavat toisen jakson arvosanoja ja poissaoloja.\n"
   ],
   "id": "b9db4628e7158060"
  },
  {
   "metadata": {},
   "cell_type": "code",
   "outputs": [],
   "execution_count": null,
   "source": "##Tähän koodisoluun voit kirjoittaa koodia, joka vastaa yllä esitettyyn kysymykseen.",
   "id": "5d4716b506bb2400"
  }
 ],
 "metadata": {
  "kernelspec": {
   "display_name": "Python 3",
   "language": "python",
   "name": "python3"
  },
  "language_info": {
   "codemirror_mode": {
    "name": "ipython",
    "version": 2
   },
   "file_extension": ".py",
   "mimetype": "text/x-python",
   "name": "python",
   "nbconvert_exporter": "python",
   "pygments_lexer": "ipython2",
   "version": "2.7.6"
  }
 },
 "nbformat": 4,
 "nbformat_minor": 5
}
