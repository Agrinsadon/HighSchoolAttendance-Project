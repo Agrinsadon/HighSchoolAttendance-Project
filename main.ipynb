{
 "cells": [
  {
   "cell_type": "code",
   "id": "initial_id",
   "metadata": {
    "collapsed": true,
    "ExecuteTime": {
     "end_time": "2024-09-23T15:23:54.400488Z",
     "start_time": "2024-09-23T15:23:54.358929Z"
    }
   },
   "source": [
    "import pandas as pd\n",
    "\n",
    "# Load the dataset to examine its contents\n",
    "file_path = './archive/2023_GradesVsPeriodAttendance_01.csv'\n",
    "data = pd.read_csv(file_path)\n",
    "\n",
    "# Display the first few rows of the dataset to understand its structure\n",
    "data.head()\n"
   ],
   "outputs": [
    {
     "data": {
      "text/plain": [
       "        school_name student_id  grade         term_code  bellPeriod1_absences  \\\n",
       "0  West High School  DF2PJ1C35      9  Semester 1 Final                    20   \n",
       "1  West High School  8MED60MM6      9  Semester 1 Final                    50   \n",
       "2  West High School  ZCB232N6Q      9  Semester 1 Final                    10   \n",
       "3  West High School  989OKS8ZG      9  Semester 1 Final                     8   \n",
       "4  West High School  J6EM8W29X      9  Semester 1 Final                    19   \n",
       "\n",
       "   bellPeriod2_absences  bellPeriod3_absences  bellPeriod4_absences  \\\n",
       "0                    16                    18                    15   \n",
       "1                    11                    10                    12   \n",
       "2                     4                     4                     6   \n",
       "3                     4                     4                     2   \n",
       "4                     4                     7                     5   \n",
       "\n",
       "   bellPeriod5_absences  bellPeriod6_absences  total_absences  \\\n",
       "0                    17                    17             103   \n",
       "1                    10                    15             108   \n",
       "2                    10                     8              42   \n",
       "3                     3                     4              25   \n",
       "4                     3                     3              41   \n",
       "\n",
       "  bellPeriod1_markbook_mark bellPeriod2_markbook_mark  \\\n",
       "0                         D                         C   \n",
       "1                         B                         C   \n",
       "2                         A                         B   \n",
       "3                         A                         A   \n",
       "4                         A                         D   \n",
       "\n",
       "  bellPeriod3_markbook_mark bellPeriod4_markbook_mark  \\\n",
       "0                         A                         C   \n",
       "1                         A                         C   \n",
       "2                         B                         B   \n",
       "3                         A                         A   \n",
       "4                         B                         B   \n",
       "\n",
       "  bellPeriod5_markbook_mark bellPeriod6_markbook_mark  \n",
       "0                         C                         C  \n",
       "1                         A                         A  \n",
       "2                         A                         B  \n",
       "3                         A                         A  \n",
       "4                         C                         B  "
      ],
      "text/html": [
       "<div>\n",
       "<style scoped>\n",
       "    .dataframe tbody tr th:only-of-type {\n",
       "        vertical-align: middle;\n",
       "    }\n",
       "\n",
       "    .dataframe tbody tr th {\n",
       "        vertical-align: top;\n",
       "    }\n",
       "\n",
       "    .dataframe thead th {\n",
       "        text-align: right;\n",
       "    }\n",
       "</style>\n",
       "<table border=\"1\" class=\"dataframe\">\n",
       "  <thead>\n",
       "    <tr style=\"text-align: right;\">\n",
       "      <th></th>\n",
       "      <th>school_name</th>\n",
       "      <th>student_id</th>\n",
       "      <th>grade</th>\n",
       "      <th>term_code</th>\n",
       "      <th>bellPeriod1_absences</th>\n",
       "      <th>bellPeriod2_absences</th>\n",
       "      <th>bellPeriod3_absences</th>\n",
       "      <th>bellPeriod4_absences</th>\n",
       "      <th>bellPeriod5_absences</th>\n",
       "      <th>bellPeriod6_absences</th>\n",
       "      <th>total_absences</th>\n",
       "      <th>bellPeriod1_markbook_mark</th>\n",
       "      <th>bellPeriod2_markbook_mark</th>\n",
       "      <th>bellPeriod3_markbook_mark</th>\n",
       "      <th>bellPeriod4_markbook_mark</th>\n",
       "      <th>bellPeriod5_markbook_mark</th>\n",
       "      <th>bellPeriod6_markbook_mark</th>\n",
       "    </tr>\n",
       "  </thead>\n",
       "  <tbody>\n",
       "    <tr>\n",
       "      <th>0</th>\n",
       "      <td>West High School</td>\n",
       "      <td>DF2PJ1C35</td>\n",
       "      <td>9</td>\n",
       "      <td>Semester 1 Final</td>\n",
       "      <td>20</td>\n",
       "      <td>16</td>\n",
       "      <td>18</td>\n",
       "      <td>15</td>\n",
       "      <td>17</td>\n",
       "      <td>17</td>\n",
       "      <td>103</td>\n",
       "      <td>D</td>\n",
       "      <td>C</td>\n",
       "      <td>A</td>\n",
       "      <td>C</td>\n",
       "      <td>C</td>\n",
       "      <td>C</td>\n",
       "    </tr>\n",
       "    <tr>\n",
       "      <th>1</th>\n",
       "      <td>West High School</td>\n",
       "      <td>8MED60MM6</td>\n",
       "      <td>9</td>\n",
       "      <td>Semester 1 Final</td>\n",
       "      <td>50</td>\n",
       "      <td>11</td>\n",
       "      <td>10</td>\n",
       "      <td>12</td>\n",
       "      <td>10</td>\n",
       "      <td>15</td>\n",
       "      <td>108</td>\n",
       "      <td>B</td>\n",
       "      <td>C</td>\n",
       "      <td>A</td>\n",
       "      <td>C</td>\n",
       "      <td>A</td>\n",
       "      <td>A</td>\n",
       "    </tr>\n",
       "    <tr>\n",
       "      <th>2</th>\n",
       "      <td>West High School</td>\n",
       "      <td>ZCB232N6Q</td>\n",
       "      <td>9</td>\n",
       "      <td>Semester 1 Final</td>\n",
       "      <td>10</td>\n",
       "      <td>4</td>\n",
       "      <td>4</td>\n",
       "      <td>6</td>\n",
       "      <td>10</td>\n",
       "      <td>8</td>\n",
       "      <td>42</td>\n",
       "      <td>A</td>\n",
       "      <td>B</td>\n",
       "      <td>B</td>\n",
       "      <td>B</td>\n",
       "      <td>A</td>\n",
       "      <td>B</td>\n",
       "    </tr>\n",
       "    <tr>\n",
       "      <th>3</th>\n",
       "      <td>West High School</td>\n",
       "      <td>989OKS8ZG</td>\n",
       "      <td>9</td>\n",
       "      <td>Semester 1 Final</td>\n",
       "      <td>8</td>\n",
       "      <td>4</td>\n",
       "      <td>4</td>\n",
       "      <td>2</td>\n",
       "      <td>3</td>\n",
       "      <td>4</td>\n",
       "      <td>25</td>\n",
       "      <td>A</td>\n",
       "      <td>A</td>\n",
       "      <td>A</td>\n",
       "      <td>A</td>\n",
       "      <td>A</td>\n",
       "      <td>A</td>\n",
       "    </tr>\n",
       "    <tr>\n",
       "      <th>4</th>\n",
       "      <td>West High School</td>\n",
       "      <td>J6EM8W29X</td>\n",
       "      <td>9</td>\n",
       "      <td>Semester 1 Final</td>\n",
       "      <td>19</td>\n",
       "      <td>4</td>\n",
       "      <td>7</td>\n",
       "      <td>5</td>\n",
       "      <td>3</td>\n",
       "      <td>3</td>\n",
       "      <td>41</td>\n",
       "      <td>A</td>\n",
       "      <td>D</td>\n",
       "      <td>B</td>\n",
       "      <td>B</td>\n",
       "      <td>C</td>\n",
       "      <td>B</td>\n",
       "    </tr>\n",
       "  </tbody>\n",
       "</table>\n",
       "</div>"
      ]
     },
     "execution_count": 55,
     "metadata": {},
     "output_type": "execute_result"
    }
   ],
   "execution_count": 55
  },
  {
   "metadata": {},
   "cell_type": "markdown",
   "source": [
    "1. Vaikuttaako poissaolojen määrä oppilaan saamiin arvosanoihin?\n",
    "- Kysymys: Onko oppilailla, joilla on enemmän poissaoloja, keskimäärin huonommat arvosanat?\n",
    "- Analyysi: Tarkastelkaa poissaolojen määrää eri oppitunneilla ja verratkaa sitä oppilaan saamiin arvosanoihin."
   ],
   "id": "7d5dada2c5fefd99"
  },
  {
   "metadata": {
    "ExecuteTime": {
     "end_time": "2024-09-23T15:23:54.427268Z",
     "start_time": "2024-09-23T15:23:54.424802Z"
    }
   },
   "cell_type": "code",
   "source": "##Tähän koodisoluun voit kirjoittaa koodia, joka vastaa yllä esitettyyn kysymykseen.",
   "id": "66a27b2b27f828c4",
   "outputs": [],
   "execution_count": 56
  },
  {
   "metadata": {},
   "cell_type": "markdown",
   "source": [
    "2. Mitkä oppitunnit ovat herkimmin altistettuja poissaoloille?\n",
    "-  Kysymys: Onko joillakin oppitunneilla (esim. ensimmäinen tai kuudes tunti) enemmän poissaoloja kuin muilla?\n",
    "-  Analyysi: Vertailkaa poissaolomääriä eri oppitunneilla ja tutkikaa, onko tiettyjä jaksoja, joissa poissaoloja esiintyy enemmän.\n"
   ],
   "id": "2b67708c75731411"
  },
  {
   "metadata": {
    "ExecuteTime": {
     "end_time": "2024-09-23T15:23:54.465729Z",
     "start_time": "2024-09-23T15:23:54.461854Z"
    }
   },
   "cell_type": "code",
   "source": "##Tähän koodisoluun voit kirjoittaa koodia, joka vastaa yllä esitettyyn kysymykseen.\n",
   "id": "1dc70a1f062eadca",
   "outputs": [],
   "execution_count": 57
  },
  {
   "metadata": {},
   "cell_type": "markdown",
   "source": [
    "3. Onko tietyn vuoden opiskelijoilla (esim. 9., 10., 11. tai 12. luokka) korkeampi poissaolojen määrä tai heikommat arvosanat?\n",
    "\n",
    "- Tulosten perusteella ylemmillä luokka-asteilla (11 ja 12) oppilaat ovat keskimäärin poissa useammin, mutta heidän arvosanansa ovat hieman parempia verrattuna alempiin luokka-asteisiin. "
   ],
   "id": "21798e63f898346c"
  },
  {
   "metadata": {
    "ExecuteTime": {
     "end_time": "2024-09-23T15:23:54.504641Z",
     "start_time": "2024-09-23T15:23:54.484982Z"
    }
   },
   "cell_type": "code",
   "source": [
    "# Ensure total_absences is an integer type\n",
    "data['total_absences'] = data['total_absences'].astype(int)\n",
    "\n",
    "# Define a mapping for letter grades to numerical equivalents\n",
    "grade_mapping = {'A': 4, 'B': 3, 'C': 2, 'D': 1, 'F': 0}\n",
    "\n",
    "# Replace the letter grades with numerical equivalents for all bell periods\n",
    "for period in range(1, 7):\n",
    "    column_name = f'bellPeriod{period}_markbook_mark'\n",
    "    data[column_name] = data[column_name].map(grade_mapping)\n",
    "\n",
    "# Calculate the mean of absences and marks per grade level\n",
    "grouped_data = data.groupby('grade').agg({\n",
    "    'total_absences': 'mean',\n",
    "    'bellPeriod1_markbook_mark': 'mean',\n",
    "    'bellPeriod2_markbook_mark': 'mean',\n",
    "    'bellPeriod3_markbook_mark': 'mean',\n",
    "    'bellPeriod4_markbook_mark': 'mean',\n",
    "    'bellPeriod5_markbook_mark': 'mean',\n",
    "    'bellPeriod6_markbook_mark': 'mean'\n",
    "}).reset_index()\n",
    "\n",
    "# Add a column for the overall average mark across all periods for each grade\n",
    "grouped_data['average_mark'] = grouped_data[\n",
    "    ['bellPeriod1_markbook_mark', 'bellPeriod2_markbook_mark', \n",
    "     'bellPeriod3_markbook_mark', 'bellPeriod4_markbook_mark', \n",
    "     'bellPeriod5_markbook_mark', 'bellPeriod6_markbook_mark']].mean(axis=1)\n",
    "\n",
    "# Display the final grouped data with grade, total absences, and average mark\n",
    "grouped_data[['grade', 'total_absences', 'average_mark']].style.format({\n",
    "    'total_absences': '{:.0f}', 'average_mark': '{:.2f}'\n",
    "})\n",
    "\n"
   ],
   "id": "8fe5472693aecccb",
   "outputs": [
    {
     "data": {
      "text/plain": [
       "<pandas.io.formats.style.Styler at 0x108b3a1f0>"
      ],
      "text/html": [
       "<style type=\"text/css\">\n",
       "</style>\n",
       "<table id=\"T_9d814\">\n",
       "  <thead>\n",
       "    <tr>\n",
       "      <th class=\"blank level0\" >&nbsp;</th>\n",
       "      <th id=\"T_9d814_level0_col0\" class=\"col_heading level0 col0\" >grade</th>\n",
       "      <th id=\"T_9d814_level0_col1\" class=\"col_heading level0 col1\" >total_absences</th>\n",
       "      <th id=\"T_9d814_level0_col2\" class=\"col_heading level0 col2\" >average_mark</th>\n",
       "    </tr>\n",
       "  </thead>\n",
       "  <tbody>\n",
       "    <tr>\n",
       "      <th id=\"T_9d814_level0_row0\" class=\"row_heading level0 row0\" >0</th>\n",
       "      <td id=\"T_9d814_row0_col0\" class=\"data row0 col0\" >9</td>\n",
       "      <td id=\"T_9d814_row0_col1\" class=\"data row0 col1\" >78</td>\n",
       "      <td id=\"T_9d814_row0_col2\" class=\"data row0 col2\" >2.42</td>\n",
       "    </tr>\n",
       "    <tr>\n",
       "      <th id=\"T_9d814_level0_row1\" class=\"row_heading level0 row1\" >1</th>\n",
       "      <td id=\"T_9d814_row1_col0\" class=\"data row1 col0\" >10</td>\n",
       "      <td id=\"T_9d814_row1_col1\" class=\"data row1 col1\" >94</td>\n",
       "      <td id=\"T_9d814_row1_col2\" class=\"data row1 col2\" >2.43</td>\n",
       "    </tr>\n",
       "    <tr>\n",
       "      <th id=\"T_9d814_level0_row2\" class=\"row_heading level0 row2\" >2</th>\n",
       "      <td id=\"T_9d814_row2_col0\" class=\"data row2 col0\" >11</td>\n",
       "      <td id=\"T_9d814_row2_col1\" class=\"data row2 col1\" >104</td>\n",
       "      <td id=\"T_9d814_row2_col2\" class=\"data row2 col2\" >2.47</td>\n",
       "    </tr>\n",
       "    <tr>\n",
       "      <th id=\"T_9d814_level0_row3\" class=\"row_heading level0 row3\" >3</th>\n",
       "      <td id=\"T_9d814_row3_col0\" class=\"data row3 col0\" >12</td>\n",
       "      <td id=\"T_9d814_row3_col1\" class=\"data row3 col1\" >100</td>\n",
       "      <td id=\"T_9d814_row3_col2\" class=\"data row3 col2\" >2.55</td>\n",
       "    </tr>\n",
       "  </tbody>\n",
       "</table>\n"
      ]
     },
     "execution_count": 58,
     "metadata": {},
     "output_type": "execute_result"
    }
   ],
   "execution_count": 58
  },
  {
   "metadata": {},
   "cell_type": "markdown",
   "source": [
    "\n",
    "4. Kuinka paljon poissaoloja tarvitaan, ennen kuin ne alkavat vaikuttaa merkittävästi oppilaan arvosanoihin?\n",
    "-  Kysymys: Mikä on poissaolojen kynnysarvo, jonka jälkeen oppilaan arvosanat alkavat heiketä merkittävästi?\n",
    "-  Analyysi: Mallintakaa poissaolojen ja arvosanojen välistä suhdetta ja selvittäkää, missä kohtaa poissaolot alkavat heikentää arvosanoja."
   ],
   "id": "a2b57b8ce4c7910d"
  },
  {
   "metadata": {
    "ExecuteTime": {
     "end_time": "2024-09-23T15:23:54.538091Z",
     "start_time": "2024-09-23T15:23:54.533531Z"
    }
   },
   "cell_type": "code",
   "source": "##Tähän koodisoluun voit kirjoittaa koodia, joka vastaa yllä esitettyyn kysymykseen.",
   "id": "ba5e3da7ff23c951",
   "outputs": [],
   "execution_count": 59
  },
  {
   "metadata": {},
   "cell_type": "markdown",
   "source": [
    "5. Voidaanko ennustaa opiskelijan menestys toisen jakson aikana ensimmäisen jakson perusteella?\n",
    "-  Kysymys: Voidaanko ensimmäisen jakson arvosanojen ja poissaolojen perusteella ennustaa toisen jakson suoriutumista?\n",
    "-  Analyysi: Käyttäkää ensimmäisen jakson tietoja mallina, ja testatkaa, kuinka hyvin ne ennustavat toisen jakson arvosanoja ja poissaoloja.\n"
   ],
   "id": "b9db4628e7158060"
  },
  {
   "metadata": {
    "ExecuteTime": {
     "end_time": "2024-09-23T15:23:54.556630Z",
     "start_time": "2024-09-23T15:23:54.554598Z"
    }
   },
   "cell_type": "code",
   "source": "##Tähän koodisoluun voit kirjoittaa koodia, joka vastaa yllä esitettyyn kysymykseen.",
   "id": "5d4716b506bb2400",
   "outputs": [],
   "execution_count": 60
  }
 ],
 "metadata": {
  "kernelspec": {
   "display_name": "Python 3",
   "language": "python",
   "name": "python3"
  },
  "language_info": {
   "codemirror_mode": {
    "name": "ipython",
    "version": 2
   },
   "file_extension": ".py",
   "mimetype": "text/x-python",
   "name": "python",
   "nbconvert_exporter": "python",
   "pygments_lexer": "ipython2",
   "version": "2.7.6"
  }
 },
 "nbformat": 4,
 "nbformat_minor": 5
}
