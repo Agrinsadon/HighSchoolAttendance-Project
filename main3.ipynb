{
 "cells": [
  {
   "metadata": {},
   "cell_type": "markdown",
   "source": [
    "# 1. Business Understanding\n",
    "#### Research Questions:\n",
    "##### 1. What is the impact of class attendance on students' overall grades?\n",
    "##### 2. Are there specific periods with higher absenteeism that correlate with lower grades and are there more absences in certain lessons compared to others?\n",
    "##### 3. Do students in certain grade levels (e.g., 9th, 10th, 11th, or 12th grade) have higher absenteeism or lower grades?\n",
    "##### 4. What are the predictors of poor academic performance (e.g., average grade below a certain threshold)?\n"
   ],
   "id": "78db79ba157d3d11"
  },
  {
   "metadata": {},
   "cell_type": "markdown",
   "source": "# 2: Data Understanding",
   "id": "df1b07866dceed7d"
  },
  {
   "cell_type": "code",
   "id": "initial_id",
   "metadata": {
    "collapsed": true
   },
   "source": [
    "import pandas as pd\n",
    "import joblib\n",
    "from sklearn.metrics import confusion_matrix, ConfusionMatrixDisplay, classification_report\n",
    "from sklearn import tree\n",
    "import seaborn as sns\n",
    "import matplotlib.pyplot as plt\n",
    "from sklearn.metrics import mean_squared_error, r2_score\n",
    "from sklearn.model_selection import train_test_split\n",
    "from sklearn.ensemble import RandomForestRegressor\n",
    "from sklearn.tree import DecisionTreeClassifier\n",
    "from sklearn.linear_model import LogisticRegression\n",
    "from sklearn.metrics import accuracy_score\n",
    "\n",
    "# Load the dataset\n",
    "file_path = 'archive/2023_GradesVsPeriodAttendance_01.csv'\n",
    "data = pd.read_csv(file_path)\n",
    "\n",
    "# Display the first few rows and summary of the dataset\n",
    "data_info = data.info()\n",
    "data_head = data.head()\n",
    "\n",
    "print(data_info)\n",
    "print(data_head)\n",
    "\n",
    "# Display the unique grade levels in the dataset\n",
    "print(\"Unique Grade Levels in Dataset:\", data['grade'].unique())\n",
    "\n",
    "# Convert letter grades (A, B, C, D, F) into numeric values for analysis\n",
    "grade_mapping = {'A': 4, 'B': 3, 'C': 2, 'D': 1, 'F': 0}\n",
    "for col in ['bellPeriod1_markbook_mark', 'bellPeriod2_markbook_mark', 'bellPeriod3_markbook_mark',\n",
    "            'bellPeriod4_markbook_mark', 'bellPeriod5_markbook_mark', 'bellPeriod6_markbook_mark']:\n",
    "    data[col] = data[col].map(grade_mapping)\n",
    "\n",
    "# Handle missing values for grades by computing average grade\n",
    "data['average_grade'] = data[['bellPeriod1_markbook_mark', 'bellPeriod2_markbook_mark', \n",
    "                              'bellPeriod3_markbook_mark', 'bellPeriod4_markbook_mark', \n",
    "                              'bellPeriod5_markbook_mark', 'bellPeriod6_markbook_mark']].mean(axis=1)\n",
    "\n",
    "# Drop rows where 'average_grade' is missing\n",
    "data_cleaned = data.dropna(subset=['average_grade'])\n",
    "\n",
    "# Ensure the 'grade' column is categorical for analysis\n",
    "data_cleaned.loc[:, 'grade'] = data_cleaned['grade'].astype('category')\n",
    "\n",
    "# Correlation between attendance and grades\n",
    "attendance_columns = ['bellPeriod1_absences', 'bellPeriod2_absences', 'bellPeriod3_absences',\n",
    "                      'bellPeriod4_absences', 'bellPeriod5_absences', 'bellPeriod6_absences', \n",
    "                      'total_absences', 'average_grade']\n",
    "attendance_grade_corr = data_cleaned[attendance_columns].corr()\n",
    "print(\"Correlation between attendance and grades:\\n\", attendance_grade_corr)\n",
    "\n",
    "# Group by school and calculate average attendance and grades\n",
    "school_summary = data_cleaned.groupby('school_name')[['total_absences', 'average_grade']].mean()\n",
    "print(\"School-wise attendance and grade summary:\\n\", school_summary)"
   ],
   "outputs": [],
   "execution_count": null
  },
  {
   "metadata": {},
   "cell_type": "markdown",
   "source": [
    "# 3: Data Preparation"
   ],
   "id": "cf26b7915898c287"
  },
  {
   "metadata": {},
   "cell_type": "code",
   "source": [
    "# Aggregate attendance data by period to explore absenteeism patterns\n",
    "period_absence_avg = data_cleaned[['bellPeriod1_absences', 'bellPeriod2_absences', 'bellPeriod3_absences',\n",
    "                                   'bellPeriod4_absences', 'bellPeriod5_absences', 'bellPeriod6_absences']].mean()\n",
    "print(\"Average absences per period:\\n\", period_absence_avg)\n",
    "\n",
    "# binary target variable for poor academic performance (e.g., pass/fail based on grade threshold)\n",
    "data_cleaned = data_cleaned.copy()\n",
    "data_cleaned['pass_fail'] = (data_cleaned['average_grade'] >= 2).astype(int)\n",
    "\n",
    "###  For Question 3 Attendance and grades comparison across schools preparations\n",
    "\n",
    "grouped_data = data_cleaned.groupby('grade').agg({\n",
    "    'total_absences': 'mean',\n",
    "    'bellPeriod1_markbook_mark': 'mean',\n",
    "    'bellPeriod2_markbook_mark': 'mean',\n",
    "    'bellPeriod3_markbook_mark': 'mean',\n",
    "    'bellPeriod4_markbook_mark': 'mean',\n",
    "    'bellPeriod5_markbook_mark': 'mean',\n",
    "    'bellPeriod6_markbook_mark': 'mean'\n",
    "}).reset_index()\n",
    "\n",
    "# Add a column for the overall average mark across all periods for each grade\n",
    "grouped_data['average_mark'] = grouped_data[\n",
    "    ['bellPeriod1_markbook_mark', 'bellPeriod2_markbook_mark', \n",
    "     'bellPeriod3_markbook_mark', 'bellPeriod4_markbook_mark', \n",
    "     'bellPeriod5_markbook_mark', 'bellPeriod6_markbook_mark']].mean(axis=1)"
   ],
   "id": "d8776a52b0e0e8d4",
   "outputs": [],
   "execution_count": null
  },
  {
   "metadata": {},
   "cell_type": "markdown",
   "source": [
    "# 4: Modelling"
   ],
   "id": "70ae8f3a2e5c5005"
  },
  {
   "metadata": {},
   "cell_type": "code",
   "source": [
    "# Research Question 1: Impact of attendance on overall grades (Random Forest Regressor)\n",
    "features = data_cleaned[['bellPeriod1_absences', 'bellPeriod2_absences', 'bellPeriod3_absences',\n",
    "                         'bellPeriod4_absences', 'bellPeriod5_absences', 'bellPeriod6_absences', 'total_absences']]\n",
    "target = data_cleaned['average_grade']\n",
    "\n",
    "# Split dataset for Research Question 1 (Random Forest)\n",
    "X_train, X_test, y_train, y_test = train_test_split(features, target, test_size=0.2, random_state=42)\n",
    "\n",
    "# Train Random Forest Regressor\n",
    "rf_model = RandomForestRegressor(n_estimators=100, random_state=42)\n",
    "rf_model.fit(X_train, y_train)\n",
    "\n",
    "# Research Question 2: Periods of absenteeism and their effect on grades (Decision Tree Classifier)\n",
    "decision_tree_model = DecisionTreeClassifier(max_depth=5, random_state=42)\n",
    "\n",
    "# Use the binary pass/fail target for classification\n",
    "decision_tree_model.fit(X_train, data_cleaned.loc[X_train.index, 'pass_fail'])\n",
    "\n",
    "# Research Question 4: Predict poor academic performance (Logistic Regression)\n",
    "logistic_model = LogisticRegression(random_state=42)\n",
    "logistic_model.fit(X_train, data_cleaned.loc[X_train.index, 'pass_fail'])\n"
   ],
   "id": "461d76d591ec60a3",
   "outputs": [],
   "execution_count": null
  },
  {
   "metadata": {},
   "cell_type": "markdown",
   "source": [
    "# 5: Model Evaluation\n",
    "### Question 1: Impact of attendance on grades"
   ],
   "id": "f6157c1b589306e8"
  },
  {
   "metadata": {},
   "cell_type": "code",
   "source": [
    "# Predictions for Random Forest Regressor\n",
    "y_pred_rf = rf_model.predict(X_test)\n",
    "mse_rf = mean_squared_error(y_test, y_pred_rf)\n",
    "r2_rf = r2_score(y_test, y_pred_rf)\n",
    "\n",
    "print(f'Mean Squared Error for attendance vs grades: {mse_rf}')\n",
    "print(f'R² Score for attendance vs grades: {r2_rf}')\n",
    "\n",
    "# Scatter plot with regression line\n",
    "plt.figure(figsize=(10, 6))\n",
    "sns.regplot(x=data_cleaned['total_absences'], y=data_cleaned['average_grade'], scatter_kws={\"color\": \"blue\"}, line_kws={\"color\": \"red\"})\n",
    "plt.title('Total Absences vs. Average Grade')\n",
    "plt.xlabel('Total Absences')\n",
    "plt.ylabel('Average Grade')\n",
    "plt.show()"
   ],
   "id": "c506e65b6e6c9d0e",
   "outputs": [],
   "execution_count": null
  },
  {
   "metadata": {},
   "cell_type": "markdown",
   "source": [
    "### Question 2: Impact of specific periods on grades and absences in certain lessons of the day"
   ],
   "id": "2425997226bf8c86"
  },
  {
   "cell_type": "code",
   "source": [
    "# Calculate average absences for each period, grouped by grade\n",
    "average_absences_by_grade = data.groupby('grade')[\n",
    "    ['bellPeriod1_absences', 'bellPeriod2_absences', 'bellPeriod3_absences',\n",
    "     'bellPeriod4_absences', 'bellPeriod5_absences', 'bellPeriod6_absences']\n",
    "].mean()\n",
    "\n",
    "# Display the average absences per period for each grade\n",
    "average_absences_by_grade\n",
    "\n",
    "# Set up the plot\n",
    "average_absences_by_grade.plot(kind='bar', figsize=(10,6))\n",
    "plt.title('Average Absences by Period for Each Grade')\n",
    "plt.ylabel('Average Number of Absences')\n",
    "plt.xlabel('Grade')\n",
    "plt.xticks(rotation=0)\n",
    "plt.legend(title='Periods', bbox_to_anchor=(1.05, 1), loc='upper left')\n",
    "\n",
    "# Display the plot\n",
    "plt.tight_layout()\n",
    "plt.show()"
   ],
   "metadata": {
    "collapsed": false
   },
   "id": "8439cb8c0077bd59",
   "outputs": [],
   "execution_count": null
  },
  {
   "cell_type": "markdown",
   "source": [
    "##### We observed clear differences in the number of absences across different terms and grade levels. The first lesson is more prone to absences for all grade levels compared to other lessons. As students get older, absences during the first lessons of the morning increase. On the other hand, absences during the sixth lesson decrease, especially among older students, which may indicate possible scheduling changes or increased student engagement in the later lessons of the day.\n",
    "\n",
    "##### This information could help schools focus their efforts on the first lessons of the morning to reduce absences, particularly in higher grade levels."
   ],
   "metadata": {
    "collapsed": false
   },
   "id": "15856f84e5e5a75e"
  },
  {
   "metadata": {},
   "cell_type": "code",
   "source": [
    "import matplotlib.pyplot as plt\n",
    "from sklearn.tree import plot_tree\n",
    "from sklearn.metrics import accuracy_score\n",
    "\n",
    "# Set the figure size\n",
    "plt.figure(figsize=(20, 20))\n",
    "\n",
    "# Plot the decision tree\n",
    "plot_tree(\n",
    "    decision_tree_model,\n",
    "    feature_names=features.columns,\n",
    "    filled=True,\n",
    "    class_names=['Fail', 'Pass'],\n",
    "    rounded=True,\n",
    "    fontsize=12\n",
    ")\n",
    "\n",
    "# Add a title for context\n",
    "plt.title('Decision Tree: Impact of Absenteeism on Grades', fontsize=16)\n",
    "\n",
    "# Optionally add a color bar for clarity\n",
    "# Create a legend for the classes\n",
    "import matplotlib.patches as mpatches\n",
    "\n",
    "# Define a legend for the classes\n",
    "legend_labels = ['Fail', 'Pass']\n",
    "legend_colors = ['#FF9999', '#66B3FF']  # Corresponding colors for the classes\n",
    "patches = [mpatches.Patch(color=legend_colors[i], label=legend_labels[i]) for i in range(len(legend_labels))]\n",
    "plt.legend(handles=patches, title=\"Class Labels\", fontsize=12)\n",
    "\n",
    "plt.show()\n",
    "\n",
    "# Evaluate the Decision Tree\n",
    "y_pred_dt = decision_tree_model.predict(X_test)\n",
    "accuracy_dt = accuracy_score(data_cleaned.loc[X_test.index, 'pass_fail'], y_pred_dt)\n",
    "print(f'Accuracy for predicting pass/fail with Decision Tree: {accuracy_dt:.2f}')\n"
   ],
   "id": "a8b12b534382c493",
   "outputs": [],
   "execution_count": null
  },
  {
   "cell_type": "markdown",
   "source": [
    "##### The main decision point in the tree is whether total absences exceed 128.5 periods. This is the most crucial factor in predicting whether a student will pass or fail.\n",
    "\n",
    "##### - Students with fewer than 128.5 absences are more likely to pass.\n",
    "##### - Students with more than 128.5 absences are more likely to fail.\n",
    "\n",
    "##### Absences during the first period are strongly linked to failure, while absences during the sixth period also help in predicting performance.\n",
    "\n",
    "##### Color Coding:\n",
    "##### Blue nodes indicate that the majority of students in that group are predicted to pass.\n",
    "##### Orange nodes indicate that most are predicted to fail.\n",
    "\n",
    "##### The Gini score measures how well a node separates students who pass and fail. A lower Gini index indicates a more \"pure\" node with better separation.\n",
    "\n",
    "##### samples = 17030 means the dataset includes 17,030 students.\n",
    "##### value = [4922, 12101] shows that 4,922 students are predicted to fail and 12,101 to pass."
   ],
   "metadata": {
    "collapsed": false
   },
   "id": "e5d24e055afa1a65"
  },
  {
   "metadata": {},
   "cell_type": "markdown",
   "source": [
    "## Research Question 3: Average absenteeism and grades per grade level\n",
    "\n",
    "- Tulosten perusteella ylemmillä luokka-asteilla (11 ja 12) oppilaat ovat keskimäärin poissa useammin, mutta heidän arvosanansa ovat hieman parempia verrattuna alempiin luokka-asteisiin. "
   ],
   "id": "a80387ea67bf8432"
  },
  {
   "metadata": {},
   "cell_type": "code",
   "source": [
    "# Visualize absences and grades by grade level\n",
    "plt.figure(figsize=(10, 6))\n",
    "sns.barplot(x='grade', y='total_absences', data=grouped_data, color='blue')\n",
    "plt.title('Average Absences by Grade Level')\n",
    "plt.xlabel('Grade Level')\n",
    "plt.ylabel('Average Absences')\n",
    "plt.show()\n",
    "\n",
    "plt.figure(figsize=(10, 6))\n",
    "sns.barplot(x='grade', y='average_mark', data=grouped_data, color='green')\n",
    "plt.title('Average Grades by Grade Level')\n",
    "plt.xlabel('Grade Level')\n",
    "plt.ylabel('Average Grades')\n",
    "plt.show()\n",
    "\n",
    "\n",
    "print(grouped_data[['grade', 'total_absences', 'average_mark']])\n"
   ],
   "id": "31a0634eb4325084",
   "outputs": [],
   "execution_count": null
  },
  {
   "metadata": {},
   "cell_type": "markdown",
   "source": [
    "### 4: Predictors of poor academic performance"
   ],
   "id": "d73110fdcea7b6d9"
  },
  {
   "metadata": {},
   "cell_type": "code",
   "source": [
    "# Confusion Matrix\n",
    "y_pred_logistic = logistic_model.predict(X_test)\n",
    "cm = confusion_matrix(data_cleaned.loc[X_test.index, 'pass_fail'], y_pred_logistic)\n",
    "\n",
    "# Display Confusion Matrix\n",
    "disp = ConfusionMatrixDisplay(confusion_matrix=cm, display_labels=['Fail', 'Pass'])\n",
    "disp.plot(cmap=plt.cm.Blues)\n",
    "plt.title('Confusion Matrix: Logistic Regression')\n",
    "plt.show()\n",
    "\n",
    "# Classification report as a table\n",
    "print(\"Classification Report:\\n\")\n",
    "print(classification_report(data_cleaned.loc[X_test.index, 'pass_fail'], y_pred_logistic))\n"
   ],
   "id": "da947606527674d6",
   "outputs": [],
   "execution_count": null
  },
  {
   "metadata": {},
   "cell_type": "markdown",
   "source": [
    "# 6: Model Deployment"
   ],
   "id": "a951ed13214ff4d6"
  },
  {
   "metadata": {},
   "cell_type": "code",
   "source": "",
   "id": "f444306d6217e689",
   "outputs": [],
   "execution_count": null
  }
 ],
 "metadata": {
  "kernelspec": {
   "display_name": "Python 3",
   "language": "python",
   "name": "python3"
  },
  "language_info": {
   "codemirror_mode": {
    "name": "ipython",
    "version": 2
   },
   "file_extension": ".py",
   "mimetype": "text/x-python",
   "name": "python",
   "nbconvert_exporter": "python",
   "pygments_lexer": "ipython2",
   "version": "2.7.6"
  }
 },
 "nbformat": 4,
 "nbformat_minor": 5
}
